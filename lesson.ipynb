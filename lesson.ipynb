{
 "cells": [
  {
   "cell_type": "markdown",
   "metadata": {},
   "source": [
    "-  pip install ipytest\n",
    "-  install VS Code Jupyter extension \n",
    "    - https://marketplace.visualstudio.com/items?itemName=ms-toolsai.jupyter \n",
    "- Command Palette/Python: Select Interpreter/Python 3.11.4\n"
   ]
  },
  {
   "cell_type": "code",
   "execution_count": 1,
   "metadata": {},
   "outputs": [
    {
     "name": "stdout",
     "output_type": "stream",
     "text": [
      "9\n"
     ]
    }
   ],
   "source": [
    "print(3+6)"
   ]
  },
  {
   "cell_type": "code",
   "execution_count": 2,
   "metadata": {},
   "outputs": [],
   "source": [
    "import ipytest\n",
    "import sys\n",
    "import io\n",
    "ipytest.autoconfig()"
   ]
  },
  {
   "cell_type": "markdown",
   "metadata": {},
   "source": [
    "## Task #1\n",
    "\n",
    "Write a function `happy_new_year()` using a `while` loop that outputs numbers\n",
    "starting at 10 and counting down to 1. After reaching 1, print out \"Happy New\n",
    "Year!\"\n",
    "\n",
    "```\n",
    "10\n",
    "9\n",
    "8\n",
    "7\n",
    "6\n",
    "5\n",
    "4\n",
    "3\n",
    "2\n",
    "1\n",
    "Happy New Year!\n",
    "```"
   ]
  },
  {
   "cell_type": "code",
   "execution_count": 3,
   "metadata": {},
   "outputs": [],
   "source": [
    "def happy_new_year():\n",
    "    countdown = 10\n",
    "    while countdown in range(10, 0, -1):\n",
    "        print(countdown)\n",
    "        countdown -= 1\n",
    "\n",
    "    print(\"Happy New Year!\")"
   ]
  },
  {
   "cell_type": "code",
   "execution_count": 4,
   "metadata": {},
   "outputs": [
    {
     "name": "stdout",
     "output_type": "stream",
     "text": [
      "\u001b[32m.\u001b[0m\u001b[32m                                                                                            [100%]\u001b[0m\n",
      "\u001b[32m\u001b[32m\u001b[1m1 passed\u001b[0m\u001b[32m in 0.00s\u001b[0m\u001b[0m\n"
     ]
    }
   ],
   "source": [
    "%%ipytest\n",
    "    \n",
    "# Unit test for happy_new_year()\n",
    "\n",
    "def test_prints_10_to_1_hny():\n",
    "    '''prints 10 to 1 countdown then \"Happy New Year!\"'''\n",
    "    captured_out = io.StringIO()\n",
    "    sys.stdout = captured_out\n",
    "    happy_new_year()\n",
    "    sys.stdout = sys.__stdout__\n",
    "    answer = captured_out.getvalue()\n",
    "    \n",
    "    #answer.split(\\n) produces a list that ends in ''\n",
    "    answer_list = answer.split('\\n')\n",
    "    #second to last value should be the HNY string\n",
    "    assert answer_list[-2] == \"Happy New Year!\", \"Your final line does not match 'Happy New Year!', check spelling/capitalization!\"\n",
    "    digit_strings = [str(i) for i in range(1,11)]\n",
    "    remaining_digits = [i for i in digit_strings if i not in answer_list] \n",
    "    assert remaining_digits == [], f\"You didn't print all digits 1-10, missing {', '.join(remaining_digits)}\"\n"
   ]
  },
  {
   "cell_type": "markdown",
   "metadata": {},
   "source": [
    "## Task #2\n",
    "\n",
    "Write a function `square_integers()` that takes one argument, a list of\n",
    "integers and returns the list of squared elements.\n",
    "\n",
    "```py\n",
    "square_integers([1, 2, 3, 4, 5])\n",
    "# [1, 4, 9, 16, 25]\n",
    "```"
   ]
  },
  {
   "cell_type": "code",
   "execution_count": 5,
   "metadata": {},
   "outputs": [],
   "source": [
    "def square_integers(int_list):\n",
    "    return [i ** 2 for i in int_list]"
   ]
  },
  {
   "cell_type": "code",
   "execution_count": 6,
   "metadata": {},
   "outputs": [
    {
     "name": "stdout",
     "output_type": "stream",
     "text": [
      "\u001b[32m.\u001b[0m\u001b[32m                                                                                            [100%]\u001b[0m\n",
      "\u001b[32m\u001b[32m\u001b[1m1 passed\u001b[0m\u001b[32m in 0.00s\u001b[0m\u001b[0m\n"
     ]
    }
   ],
   "source": [
    "%%ipytest\n",
    "\n",
    "def test_square_integers():\n",
    "    '''returns squared ints for [1, 2, 3, 4, 5] and [-1, -2, -3, -4, -5]'''\n",
    "    assert(square_integers([1, 2, 3, 4, 5]) == [1, 4, 9, 16, 25])\n",
    "    assert(square_integers([-1, -2, -3, -4, -5]) == [1, 4, 9, 16, 25])"
   ]
  }
 ],
 "metadata": {
  "kernelspec": {
   "display_name": "Python 3",
   "language": "python",
   "name": "python3"
  },
  "language_info": {
   "codemirror_mode": {
    "name": "ipython",
    "version": 3
   },
   "file_extension": ".py",
   "mimetype": "text/x-python",
   "name": "python",
   "nbconvert_exporter": "python",
   "pygments_lexer": "ipython3",
   "version": "3.11.4"
  }
 },
 "nbformat": 4,
 "nbformat_minor": 2
}
